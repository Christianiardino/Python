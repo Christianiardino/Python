{
 "cells": [
  {
   "cell_type": "code",
   "execution_count": 1,
   "metadata": {},
   "outputs": [],
   "source": [
    "from tkinter import *\n",
    "import tkinter as tk\n",
    "import time\n",
    "import random as rand"
   ]
  },
  {
   "cell_type": "code",
   "execution_count": 2,
   "metadata": {},
   "outputs": [],
   "source": [
    "def desenha_planeta(x, y, raio, cor):\n",
    "    canvas.create_oval(x-raio, y-raio, x+raio, y+raio, fill = cor)"
   ]
  },
  {
   "cell_type": "code",
   "execution_count": 3,
   "metadata": {},
   "outputs": [],
   "source": [
    "def desenha_orbita(x, y, raio):\n",
    "    canvas.create_oval(x-raio, y-raio, x+raio, y+raio, dash=(4, 2), outline=\"white\")"
   ]
  },
  {
   "cell_type": "code",
   "execution_count": 39,
   "metadata": {},
   "outputs": [],
   "source": [
    "def array_orbita(raio):\n",
    "    orbita = []\n",
    "    x = 0\n",
    "    while x < largura:\n",
    "        x_2 = (x-raio)*(x-raio)\n",
    "        r_2 = raio*raio\n",
    "        r_x_p = (pow(r_2-x_2,1/2))+altura/2\n",
    "        r_x_n = ((-1)*pow(r_2-x_2,1/2))+altura/2\n",
    "        if r_x_p.imag == 0 and r_x_n.imag == 0:\n",
    "            temp = [int(x+largura/2)-raio,int(r_x_p),int(r_x_n)]\n",
    "            if temp not in orbita:\n",
    "                orbita.append(temp)\n",
    "        x += 0.02\n",
    "    return orbita"
   ]
  },
  {
   "cell_type": "code",
   "execution_count": 55,
   "metadata": {},
   "outputs": [],
   "source": [
    "def move():\n",
    "    canvas.delete(\"all\")\n",
    "    for i in planetas:\n",
    "        if i[8] == 1:\n",
    "            i[4] = i[6][i[7]][i[8]]\n",
    "            i[5] = i[6][i[7]][0]\n",
    "        else:\n",
    "            i[4] = i[6][len(i[6])-i[7]-1][i[8]]\n",
    "            i[5] = i[6][len(i[6])-i[7]-1][0]\n",
    "        i[7] += 1\n",
    "        if i[7]>=len(i[6]):\n",
    "            i[7] = 0\n",
    "            if i[8] == 1:\n",
    "                i[8] = 2\n",
    "            else:\n",
    "                i[8] = 1\n",
    "        desenha_orbita(altura/2, largura/2, i[1])\n",
    "        desenha_planeta(altura/2, largura/2, 50, \"yellow\")\n",
    "        desenha_planeta(i[4], i[5], i[0], i[3])\n",
    "    tela.after(15, move)  "
   ]
  },
  {
   "cell_type": "code",
   "execution_count": 56,
   "metadata": {},
   "outputs": [],
   "source": [
    "tela = Tk()\n",
    "altura = 900\n",
    "largura = 900\n",
    "\n",
    "planetas = []\n",
    "\n",
    "canvas = tk.Canvas(tela, width=largura, height=altura, borderwidth=0, highlightthickness=0, bg=\"black\")\n",
    "canvas.grid()\n",
    "\n",
    "desenha_planeta(altura/2, largura/2, 50, \"yellow\")\n",
    "\n",
    "color_list = [\"white\",\"red\",\"blue\",\"orange\",\"purple\",\"green\",\"pink\"]\n",
    "\n",
    "for i in range(10):\n",
    "    tamanho = rand.randint(i+2,i+10)\n",
    "    if i != 0:\n",
    "        orbita = rand.randint(planetas[i-1][1]+planetas[i-1][0]+tamanho,\n",
    "                              planetas[i-1][1]+planetas[i-1][0]+tamanho+planetas[i-1][2])\n",
    "    else:\n",
    "        orbita = rand.randint(60,65)\n",
    "    cor = color_list[rand.randint(0,6)]\n",
    "    cons = rand.randint(30,45)\n",
    "    temp = [tamanho, orbita, cons, cor, (largura/2)+orbita, altura/2, array_orbita(orbita), 0, 1,]\n",
    "    planetas.append(temp)\n",
    "\n",
    "tela.after(1, move)\n",
    "tela.mainloop()"
   ]
  },
  {
   "cell_type": "code",
   "execution_count": null,
   "metadata": {},
   "outputs": [],
   "source": []
  }
 ],
 "metadata": {
  "kernelspec": {
   "display_name": "Python 3",
   "language": "python",
   "name": "python3"
  },
  "language_info": {
   "codemirror_mode": {
    "name": "ipython",
    "version": 3
   },
   "file_extension": ".py",
   "mimetype": "text/x-python",
   "name": "python",
   "nbconvert_exporter": "python",
   "pygments_lexer": "ipython3",
   "version": "3.7.3"
  }
 },
 "nbformat": 4,
 "nbformat_minor": 2
}
